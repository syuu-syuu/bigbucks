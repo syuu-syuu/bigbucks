{
 "cells": [
  {
   "cell_type": "code",
   "execution_count": 5,
   "metadata": {},
   "outputs": [
    {
     "name": "stdout",
     "output_type": "stream",
     "text": [
      "                         market_open              market_close\n",
      "2023-04-28 2023-04-28 13:30:00+00:00 2023-04-28 20:00:00+00:00\n",
      "09:30:00\n",
      "16:00:00\n",
      "Not within stock trading hours.\n"
     ]
    }
   ],
   "source": [
    "from pandas_market_calendars import get_calendar\n",
    "from datetime import datetime\n",
    "import pytz\n",
    "\n",
    "est = pytz.timezone('US/Eastern')\n",
    "trade_time = datetime.now()\n",
    "query_date = trade_time.date()\n",
    "query_clock = trade_time.time()\n",
    "nyse_calendar = get_calendar('NYSE')\n",
    "schedule = nyse_calendar.schedule(\n",
    "    start_date=query_date, end_date=query_date)\n",
    "if len(schedule) == 0:\n",
    "    print(f'No trading on {query_date}.')\n",
    "print(schedule)\n",
    "market_open = schedule.iloc[0]['market_open'].to_pydatetime().astimezone(est).time()\n",
    "market_close = schedule.iloc[0]['market_close'].to_pydatetime().astimezone(est).time()\n",
    "    \n",
    "print(market_open)\n",
    "print(market_close)\n",
    "if not (market_open <= query_clock <= market_close):\n",
    "    print(f'Not within stock trading hours.')\n",
    "if trade_time > datetime.now():\n",
    "    print(f'Trade time {trade_time} is in the future.')"
   ]
  }
 ],
 "metadata": {
  "kernelspec": {
   "display_name": "venv",
   "language": "python",
   "name": "python3"
  },
  "language_info": {
   "codemirror_mode": {
    "name": "ipython",
    "version": 3
   },
   "file_extension": ".py",
   "mimetype": "text/x-python",
   "name": "python",
   "nbconvert_exporter": "python",
   "pygments_lexer": "ipython3",
   "version": "3.10.9"
  },
  "orig_nbformat": 4
 },
 "nbformat": 4,
 "nbformat_minor": 2
}
